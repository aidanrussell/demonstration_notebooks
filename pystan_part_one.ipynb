{
 "cells": [
  {
   "cell_type": "markdown",
   "metadata": {},
   "source": [
    "# Getting Started with Stan in Python\n",
    "### by Dr Aidan Russell\n",
    "\n",
    "This series is intended to help Python users to make more rapid progress with Stan, and with Bayesian methods in general. Much of the literature for Stan is accessed through R, which can provide friction for those more used to Python to get started (at least, that was my own experience). I hope in this series to reduce that friction and hence contribute to the increasing popularity of Bayesian methods in the data science skillset.\n",
    "\n",
    "Note that Stan is a cross-language software that, whether it is accessed through Python, R, Julia, or the command line, will compile to C++ in order to run. This means it does not fundamentally make a difference which language is used to access it, and is a matter only of user preference."
   ]
  },
  {
   "cell_type": "markdown",
   "metadata": {},
   "source": [
    "## Part One - Linear Regression\n",
    "\n",
    "Let us start with simple cases and move on to more complex problems; I aim to show always comparisons with more standard maximum-likelihood approaches using popular libraries - we will see then that the maximum-likelihood result will typically be very similar to the mean-average of the posterior samples from Stan. I shall not here aim to justify the advantages of the Bayesian approach, assuming the reader has already settled on the conclusion that a Bayesian approach to their problem is superior. I simply aim to show in these comparisons that, on the assumption the reader has long experience in such maximum-likelihood libraries as statsmodels, the results from Stan can be approached and interpreted in a familiar way without requiring too radical an overhaul of one's mode of thinking - one can become a Bayesian gradually. Perhaps one day soon we will live in a Bayesian-first environment for the teaching of statistical methods where such comparisons are not required or helpful, but at the time of writing we are not quite there yet."
   ]
  },
  {
   "cell_type": "code",
   "execution_count": null,
   "metadata": {},
   "outputs": [],
   "source": []
  },
  {
   "cell_type": "code",
   "execution_count": null,
   "metadata": {},
   "outputs": [],
   "source": []
  },
  {
   "cell_type": "code",
   "execution_count": null,
   "metadata": {},
   "outputs": [],
   "source": []
  },
  {
   "cell_type": "code",
   "execution_count": null,
   "metadata": {},
   "outputs": [],
   "source": []
  },
  {
   "cell_type": "code",
   "execution_count": null,
   "metadata": {},
   "outputs": [],
   "source": []
  }
 ],
 "metadata": {
  "kernelspec": {
   "display_name": "Python 3",
   "language": "python",
   "name": "python3"
  },
  "language_info": {
   "codemirror_mode": {
    "name": "ipython",
    "version": 3
   },
   "file_extension": ".py",
   "mimetype": "text/x-python",
   "name": "python",
   "nbconvert_exporter": "python",
   "pygments_lexer": "ipython3",
   "version": "3.6.5"
  }
 },
 "nbformat": 4,
 "nbformat_minor": 2
}
